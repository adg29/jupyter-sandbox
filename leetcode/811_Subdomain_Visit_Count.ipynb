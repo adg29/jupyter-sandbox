{
  "nbformat": 4,
  "nbformat_minor": 0,
  "metadata": {
    "colab": {
      "name": "811 Subdomain Visit Count.ipynb",
      "provenance": [],
      "collapsed_sections": [],
      "authorship_tag": "ABX9TyMceVDoMVAmqnG6oduKd1id",
      "include_colab_link": true
    },
    "kernelspec": {
      "name": "python3",
      "display_name": "Python 3"
    }
  },
  "cells": [
    {
      "cell_type": "markdown",
      "metadata": {
        "id": "view-in-github",
        "colab_type": "text"
      },
      "source": [
        "<a href=\"https://colab.research.google.com/github/adg29/jupyter-sandbox/blob/master/leetcode/811_Subdomain_Visit_Count.ipynb\" target=\"_parent\"><img src=\"https://colab.research.google.com/assets/colab-badge.svg\" alt=\"Open In Colab\"/></a>"
      ]
    },
    {
      "cell_type": "markdown",
      "metadata": {
        "id": "nWIXUHF5M3zH",
        "colab_type": "text"
      },
      "source": [
        "# 811. Subdomain Visit Count"
      ]
    },
    {
      "cell_type": "markdown",
      "metadata": {
        "id": "XG6Hgu1QMz3H",
        "colab_type": "text"
      },
      "source": [
        "A website domain like \"discuss.leetcode.com\" consists of various subdomains. At the top level, we have \"com\", at the next level, we have \"leetcode.com\", and at the lowest level, \"discuss.leetcode.com\". When we visit a domain like \"discuss.leetcode.com\", we will also visit the parent domains \"leetcode.com\" and \"com\" implicitly.\n",
        "\n",
        "Now, call a \"count-paired domain\" to be a count (representing the number of visits this domain received), followed by a space, followed by the address. An example of a count-paired domain might be \"9001 discuss.leetcode.com\".\n",
        "\n",
        "We are given a list cpdomains of count-paired domains. We would like a list of count-paired domains, (in the same format as the input, and in any order), that explicitly counts the number of visits to each subdomain."
      ]
    },
    {
      "cell_type": "code",
      "metadata": {
        "id": "tYsJA08lPM-V",
        "colab_type": "code",
        "colab": {}
      },
      "source": [
        "import collections"
      ],
      "execution_count": 0,
      "outputs": []
    },
    {
      "cell_type": "code",
      "metadata": {
        "id": "TrmLexh2M2WN",
        "colab_type": "code",
        "colab": {}
      },
      "source": [
        "def subdomainVisits(cpdomains):\n",
        "  ans = collections.Counter()\n",
        "  for domain in cpdomains:\n",
        "    count, domain = domain.split()\n",
        "    count = int(count)\n",
        "    frags = domain.split('.')\n",
        "    for i in range(len(frags)):\n",
        "      # print(i, frags[i:])\n",
        "      ans[\".\".join(frags[i:])] += count\n",
        "  \n",
        "  return [\"{} {}\".format(ct, dom) for dom, ct in ans.items()]"
      ],
      "execution_count": 0,
      "outputs": []
    },
    {
      "cell_type": "code",
      "metadata": {
        "id": "iVrUYyATNy0E",
        "colab_type": "code",
        "colab": {}
      },
      "source": [
        ""
      ],
      "execution_count": 0,
      "outputs": []
    },
    {
      "cell_type": "code",
      "metadata": {
        "id": "w1cR6ZE3PN0p",
        "colab_type": "code",
        "colab": {
          "base_uri": "https://localhost:8080/",
          "height": 34
        },
        "outputId": "a526de0e-825f-4df4-c2c2-0bfcab8284b2"
      },
      "source": [
        "subdomainVisits([\"9001 discuss.leetcode.com\"])"
      ],
      "execution_count": 22,
      "outputs": [
        {
          "output_type": "execute_result",
          "data": {
            "text/plain": [
              "['9001 discuss.leetcode.com', '9001 leetcode.com', '9001 com']"
            ]
          },
          "metadata": {
            "tags": []
          },
          "execution_count": 22
        }
      ]
    },
    {
      "cell_type": "code",
      "metadata": {
        "id": "6aoiQKWUQUp5",
        "colab_type": "code",
        "colab": {
          "base_uri": "https://localhost:8080/",
          "height": 136
        },
        "outputId": "ed70348b-af5a-40a4-d8f4-92e719ad8c6e"
      },
      "source": [
        "subdomainVisits([\"900 google.mail.com\", \"50 yahoo.com\", \"1 intel.mail.com\", \"5 wiki.org\"])"
      ],
      "execution_count": 23,
      "outputs": [
        {
          "output_type": "execute_result",
          "data": {
            "text/plain": [
              "['900 google.mail.com',\n",
              " '901 mail.com',\n",
              " '951 com',\n",
              " '50 yahoo.com',\n",
              " '1 intel.mail.com',\n",
              " '5 wiki.org',\n",
              " '5 org']"
            ]
          },
          "metadata": {
            "tags": []
          },
          "execution_count": 23
        }
      ]
    },
    {
      "cell_type": "code",
      "metadata": {
        "id": "ZhYuzGQ1Q3Nu",
        "colab_type": "code",
        "colab": {}
      },
      "source": [
        ""
      ],
      "execution_count": 0,
      "outputs": []
    }
  ]
}