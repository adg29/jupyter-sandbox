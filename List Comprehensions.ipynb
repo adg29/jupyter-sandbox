{
 "cells": [
  {
   "cell_type": "markdown",
   "metadata": {},
   "source": [
    "# List Comprehensions\n",
    "Common usages of list comprehensions in Python"
   ]
  },
  {
   "cell_type": "code",
   "execution_count": 6,
   "metadata": {},
   "outputs": [],
   "source": [
    "cart = [3, 4, 12, 17, 19, 21, 23, 26, 30]"
   ]
  },
  {
   "cell_type": "code",
   "execution_count": 2,
   "metadata": {},
   "outputs": [
    {
     "name": "stdout",
     "output_type": "stream",
     "text": [
      "[3, 4, 12, 17, 19, 21, 23, 26, 30]\n"
     ]
    }
   ],
   "source": [
    "cashier = []\n",
    "for item in cart:\n",
    "    cashier.append(item)\n",
    "print(cashier)"
   ]
  },
  {
   "cell_type": "code",
   "execution_count": 5,
   "metadata": {},
   "outputs": [
    {
     "name": "stdout",
     "output_type": "stream",
     "text": [
      "[3, 4, 12, 17, 19, 21, 23, 26, 30]\n"
     ]
    }
   ],
   "source": [
    "cashier_comprehension = [item for item in cart]\n",
    "print(cashier_comprehension)"
   ]
  },
  {
   "cell_type": "markdown",
   "metadata": {},
   "source": [
    "## Walrus Operator"
   ]
  },
  {
   "cell_type": "markdown",
   "metadata": {},
   "source": [
    "Python 3.8 introduced `:=` aka assignment expressions. Some languages refer to this operator as a “collator”. Basically, use it as `NAME := expr`. The value of the named expression is the same as the incorporated expression, with the additional side effet that the `target` is assigned that value.\n"
   ]
  },
  {
   "cell_type": "markdown",
   "metadata": {},
   "source": [
    "### Check if a property exsists"
   ]
  },
  {
   "cell_type": "code",
   "execution_count": 24,
   "metadata": {},
   "outputs": [],
   "source": [
    "sample_data = [\n",
    "    {\"userId\": 1, \"id\": 1, \"title\": \"delectus aut autem\", \"completed\": False},\n",
    "    {\"userId\": 1, \"id\": 2, \"title\": \"quis ut nam facilis\", \"completed\": False},\n",
    "    {\"userId\": 1, \"id\": 3, \"title\": \"fugiat veniam minus\", \"completed\": False},\n",
    "    {\"userId\": 1, \"id\": 4, \"title\": \"et porro tempora\", \"completed\": True},\n",
    "    {\"userId\": 1, \"id\": 4, \"title\": None, \"completed\": True},\n",
    "]"
   ]
  },
  {
   "cell_type": "markdown",
   "metadata": {},
   "source": [
    "With Walrus operator"
   ]
  },
  {
   "cell_type": "code",
   "execution_count": 26,
   "metadata": {},
   "outputs": [
    {
     "name": "stdout",
     "output_type": "stream",
     "text": [
      "Found title: \"delectus aut autem\"\n",
      "Found title: \"quis ut nam facilis\"\n",
      "Found title: \"fugiat veniam minus\"\n",
      "Found title: \"et porro tempora\"\n"
     ]
    }
   ],
   "source": [
    "for entry in sample_data:\n",
    "    if title := entry.get(\"title\"):\n",
    "            print(f'Found title: \"{title}\"')"
   ]
  },
  {
   "cell_type": "markdown",
   "metadata": {},
   "source": [
    "Without Walrus operator"
   ]
  },
  {
   "cell_type": "code",
   "execution_count": 29,
   "metadata": {},
   "outputs": [
    {
     "name": "stdout",
     "output_type": "stream",
     "text": [
      "Found title: \"delectus aut autem\"\n",
      "Found title: \"quis ut nam facilis\"\n",
      "Found title: \"fugiat veniam minus\"\n",
      "Found title: \"et porro tempora\"\n"
     ]
    }
   ],
   "source": [
    "for entry in sample_data:\n",
    "    title = entry.get(\"title\")\n",
    "    if title:\n",
    "        print(f'Found title: \"{title}\"')"
   ]
  },
  {
   "cell_type": "markdown",
   "metadata": {},
   "source": [
    "### Filtering in list comprehensions "
   ]
  },
  {
   "cell_type": "markdown",
   "metadata": {},
   "source": [
    "Suppose that we want to draw ten times from a list of letters, and return a list that will only include vowels from these drawings. "
   ]
  },
  {
   "cell_type": "code",
   "execution_count": 10,
   "metadata": {},
   "outputs": [],
   "source": [
    "letters = list('this is to produce a list of letters')"
   ]
  },
  {
   "cell_type": "code",
   "execution_count": null,
   "metadata": {},
   "outputs": [],
   "source": [
    "import random"
   ]
  },
  {
   "cell_type": "markdown",
   "metadata": {},
   "source": [
    "Use an assignment expression on `letter` to determine if the randomly selected letter is in the list of vowels. This assignment expression is then part of a list comprehension for filtering."
   ]
  },
  {
   "cell_type": "code",
   "execution_count": 17,
   "metadata": {},
   "outputs": [],
   "source": [
    "vowels = [letter.upper() for _ in range(0, 10) if (letter := random.choice(letters)) in list ('aeiou')]"
   ]
  },
  {
   "cell_type": "code",
   "execution_count": 18,
   "metadata": {},
   "outputs": [
    {
     "data": {
      "text/plain": [
       "['A', 'E', 'E', 'I', 'U', 'O']"
      ]
     },
     "execution_count": 18,
     "metadata": {},
     "output_type": "execute_result"
    }
   ],
   "source": [
    "vowels"
   ]
  },
  {
   "cell_type": "code",
   "execution_count": 23,
   "metadata": {},
   "outputs": [
    {
     "data": {
      "text/plain": [
       "'r'"
      ]
     },
     "execution_count": 23,
     "metadata": {},
     "output_type": "execute_result"
    }
   ],
   "source": [
    "random.choice(letters)"
   ]
  }
 ],
 "metadata": {
  "kernelspec": {
   "display_name": "Python 3",
   "language": "python",
   "name": "python3"
  },
  "language_info": {
   "codemirror_mode": {
    "name": "ipython",
    "version": 3
   },
   "file_extension": ".py",
   "mimetype": "text/x-python",
   "name": "python",
   "nbconvert_exporter": "python",
   "pygments_lexer": "ipython3",
   "version": "3.8.1"
  }
 },
 "nbformat": 4,
 "nbformat_minor": 4
}
