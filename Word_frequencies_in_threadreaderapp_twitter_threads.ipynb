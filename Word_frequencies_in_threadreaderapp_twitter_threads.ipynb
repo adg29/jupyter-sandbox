{
  "nbformat": 4,
  "nbformat_minor": 0,
  "metadata": {
    "colab": {
      "name": "Word frequencies in threadreaderapp twitter threads.ipynb",
      "provenance": [],
      "collapsed_sections": [],
      "authorship_tag": "ABX9TyPPHlyuljR2b9TDUBZ3NuvB",
      "include_colab_link": true
    },
    "kernelspec": {
      "name": "python3",
      "display_name": "Python 3"
    }
  },
  "cells": [
    {
      "cell_type": "markdown",
      "metadata": {
        "id": "view-in-github",
        "colab_type": "text"
      },
      "source": [
        "<a href=\"https://colab.research.google.com/github/adg29/jupyter-sandbox/blob/master/Word_frequencies_in_threadreaderapp_twitter_threads.ipynb\" target=\"_parent\"><img src=\"https://colab.research.google.com/assets/colab-badge.svg\" alt=\"Open In Colab\"/></a>"
      ]
    },
    {
      "cell_type": "markdown",
      "metadata": {
        "id": "hCHzyrkCBLyD",
        "colab_type": "text"
      },
      "source": [
        "Coronavirus unroll tested positive\n"
      ]
    },
    {
      "cell_type": "code",
      "metadata": {
        "id": "H2ZTCiTb7uUu",
        "colab_type": "code",
        "colab": {}
      },
      "source": [
        "def plot_word_freq(url):\n",
        "    \"\"\"Takes a url (from Project Gutenberg) and plots a word frequency\n",
        "    distribution\"\"\"\n",
        "    # Make the request and check object type\n",
        "    r = requests.get(url)\n",
        "    # Extract HTML from Response object and print\n",
        "    html = r.content.decode('utf-8','ignore')\n",
        "    # Create a BeautifulSoup object from the HTML\n",
        "    soup = BeautifulSoup(html, \"html.parser\")\n",
        "    # Get the text out of the soup and print it\n",
        "    thread = soup.find('div', {'class':'t-main'})\n",
        "    text = thread.get_text()\n",
        "    # Create tokenizer\n",
        "    tokenizer = RegexpTokenizer('\\w+')\n",
        "    # Create tokens\n",
        "    tokens = tokenizer.tokenize(text)\n",
        "    # Initialize new list\n",
        "    words = []\n",
        "    # Loop through list tokens and make lower case\n",
        "    for word in tokens:\n",
        "        words.append(word.lower())\n",
        "    # Get English stopwords and print some of them\n",
        "    sw = nltk.corpus.stopwords.words('english')\n",
        "    # Initialize new list\n",
        "    words_ns = []\n",
        "    # Add to words_ns all words that are in words but not in sw\n",
        "    for word in words:\n",
        "        if word not in sw:\n",
        "            words_ns.append(word)\n",
        "    # Create freq dist and plot\n",
        "    freqdist1 = nltk.FreqDist(words_ns)\n",
        "    freqdist1.plot(25)"
      ],
      "execution_count": 0,
      "outputs": []
    },
    {
      "cell_type": "code",
      "metadata": {
        "id": "fEm9JMBu8AnE",
        "colab_type": "code",
        "outputId": "b6183c4d-57c1-434c-e2e8-42a66875c724",
        "colab": {
          "base_uri": "https://localhost:8080/",
          "height": 102
        }
      },
      "source": [
        "import requests\n",
        "from bs4 import BeautifulSoup\n",
        "import re\n",
        "from nltk.tokenize import RegexpTokenizer\n",
        "import matplotlib.pyplot as plt\n",
        "import seaborn as sns\n",
        "from sklearn.feature_extraction.stop_words import ENGLISH_STOP_WORDS\n",
        "import nltk\n",
        "nltk.download('stopwords')\n",
        "nltk.download('wordnet')\n"
      ],
      "execution_count": 0,
      "outputs": [
        {
          "output_type": "stream",
          "text": [
            "[nltk_data] Downloading package stopwords to /root/nltk_data...\n",
            "[nltk_data]   Unzipping corpora/stopwords.zip.\n",
            "[nltk_data] Downloading package wordnet to /root/nltk_data...\n",
            "[nltk_data]   Unzipping corpora/wordnet.zip.\n"
          ],
          "name": "stdout"
        },
        {
          "output_type": "execute_result",
          "data": {
            "text/plain": [
              "True"
            ]
          },
          "metadata": {
            "tags": []
          },
          "execution_count": 4
        }
      ]
    },
    {
      "cell_type": "code",
      "metadata": {
        "id": "uaRS3jyM8SAY",
        "colab_type": "code",
        "outputId": "f4032b90-bd96-41fb-a4c8-ebc66c28dae5",
        "colab": {
          "base_uri": "https://localhost:8080/",
          "height": 321
        }
      },
      "source": [
        "plot_word_freq('https://threadreaderapp.com/thread/1241482321016107009.html')"
      ],
      "execution_count": 0,
      "outputs": [
        {
          "output_type": "display_data",
          "data": {
            "image/png": "[encoded data removed]",
            "text/plain": [
              "<Figure size 432x288 with 1 Axes>"
            ]
          },
          "metadata": {
            "tags": []
          }
        }
      ]
    },
    {
      "cell_type": "code",
      "metadata": {
        "id": "JZxUqIzD8V6T",
        "colab_type": "code",
        "colab": {}
      },
      "source": [
        ""
      ],
      "execution_count": 0,
      "outputs": []
    }
  ]
}