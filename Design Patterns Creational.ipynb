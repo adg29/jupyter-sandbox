{
 "cells": [
  {
   "cell_type": "markdown",
   "metadata": {},
   "source": [
    "# Creational Design Patterns\n",
    "\n",
    "Python patterns for the creation of classes or objects should:\n",
    "- Abstract away specifics of classes\n",
    "- Ensure special instantiation properties, controlling how user interacts with them\n",
    "\n",
    "Design patterns include:\n",
    "\n",
    "- Factory\n",
    "- Abstract Factory\n",
    "- Builder\n",
    "- Prototype\n",
    "- Singleton\n",
    "- Object Pool"
   ]
  },
  {
   "cell_type": "markdown",
   "metadata": {},
   "source": [
    "## Factory\n",
    "\n",
    "- Instantiate switch based on certain parameters\n",
    "- Scale by adding new implementations and instantiate through factory\n",
    "\n",
    "Need a uniform factory method which returns a class guaranteed to have a certain set of behaviors"
   ]
  },
  {
   "cell_type": "code",
   "execution_count": 2,
   "metadata": {},
   "outputs": [],
   "source": [
    "from abc import ABC, abstractmethod # Abstract Base Class"
   ]
  },
  {
   "cell_type": "code",
   "execution_count": 3,
   "metadata": {},
   "outputs": [],
   "source": [
    "class Product(ABC):\n",
    "    @abstractmethod\n",
    "    def calculate_risk(self):\n",
    "        pass"
   ]
  },
  {
   "cell_type": "code",
   "execution_count": 4,
   "metadata": {},
   "outputs": [],
   "source": [
    "class Worker(Product):\n",
    "    def __init__(self, name, age, hours):\n",
    "        self.name = name\n",
    "        self.age = age\n",
    "        self.hours = hours\n",
    "    \n",
    "    def calculate_risk(self):\n",
    "        return self.age + 100/self.hours\n",
    "    \n",
    "    def __str__(self):\n",
    "        return self.name + \" [\" + str(self.age) + \"] - \" + str(self.hours) + \"h/week\"\n",
    "    \n",
    "class Unemployed(Product):\n",
    "    def __init__(self, name, age, able):\n",
    "        self.name = name\n",
    "        self.age = age\n",
    "        self.able = able\n",
    "        \n",
    "    def calculate_risk(self):\n",
    "        if self.able:\n",
    "            return self.age + 10\n",
    "        else:\n",
    "            return self.age + 30\n",
    "    \n",
    "    def __str__(self):\n",
    "        if self.able:\n",
    "            return self.name+\" [\"+str(self.age)+\"] - able to work\"\n",
    "        else:\n",
    "            return self.name+\" [\"+str(self.age)+\"] - unable to work\""
   ]
  },
  {
   "cell_type": "code",
   "execution_count": 10,
   "metadata": {},
   "outputs": [],
   "source": [
    "class PersonFactory:\n",
    "    def get_person(self, type_of_person):\n",
    "        if type_of_person == \"worker\":\n",
    "            return Worker(\"Oliver\", 22, 30)\n",
    "        if type_of_person == \"unemployed\":\n",
    "            return Unemployed(\"Sophie\", 33, False)"
   ]
  },
  {
   "cell_type": "code",
   "execution_count": 11,
   "metadata": {},
   "outputs": [],
   "source": [
    "factory = PersonFactory()"
   ]
  },
  {
   "cell_type": "code",
   "execution_count": 12,
   "metadata": {},
   "outputs": [
    {
     "name": "stdout",
     "output_type": "stream",
     "text": [
      "Oliver [22] - 30h/week\n"
     ]
    }
   ],
   "source": [
    "product = factory.get_person(\"worker\")\n",
    "print(product)"
   ]
  },
  {
   "cell_type": "code",
   "execution_count": 14,
   "metadata": {},
   "outputs": [
    {
     "name": "stdout",
     "output_type": "stream",
     "text": [
      "Sophie [33] - unable to work\n"
     ]
    }
   ],
   "source": [
    "product2 = factory.get_person(\"unemployed\")\n",
    "print(product2)"
   ]
  },
  {
   "cell_type": "markdown",
   "metadata": {},
   "source": [
    "### References\n",
    "\n",
    "https://stackabuse.com/creational-design-patterns-in-python/"
   ]
  },
  {
   "cell_type": "code",
   "execution_count": 15,
   "metadata": {},
   "outputs": [
    {
     "ename": "SyntaxError",
     "evalue": "invalid syntax (<ipython-input-15-65c2fc75b28f>, line 1)",
     "output_type": "error",
     "traceback": [
      "\u001b[0;36m  File \u001b[0;32m\"<ipython-input-15-65c2fc75b28f>\"\u001b[0;36m, line \u001b[0;32m1\u001b[0m\n\u001b[0;31m    https://stackabuse.com/creational-design-patterns-in-python/\u001b[0m\n\u001b[0m          ^\u001b[0m\n\u001b[0;31mSyntaxError\u001b[0m\u001b[0;31m:\u001b[0m invalid syntax\n"
     ]
    }
   ],
   "source": []
  },
  {
   "cell_type": "code",
   "execution_count": null,
   "metadata": {},
   "outputs": [],
   "source": []
  }
 ],
 "metadata": {
  "kernelspec": {
   "display_name": "Python 3",
   "language": "python",
   "name": "python3"
  },
  "language_info": {
   "codemirror_mode": {
    "name": "ipython",
    "version": 3
   },
   "file_extension": ".py",
   "mimetype": "text/x-python",
   "name": "python",
   "nbconvert_exporter": "python",
   "pygments_lexer": "ipython3",
   "version": "3.8.1"
  }
 },
 "nbformat": 4,
 "nbformat_minor": 4
}
